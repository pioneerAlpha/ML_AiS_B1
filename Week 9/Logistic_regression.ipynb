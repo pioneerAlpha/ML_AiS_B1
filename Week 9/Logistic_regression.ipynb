{
 "cells": [
  {
   "cell_type": "code",
   "execution_count": 22,
   "id": "180df1ac-640f-453f-94e5-f9077f3c2ccf",
   "metadata": {},
   "outputs": [],
   "source": [
    "from sklearn.datasets import load_digits\n",
    "digits = load_digits()"
   ]
  },
  {
   "cell_type": "markdown",
   "id": "716cf5a0-cdbe-4562-94b7-2988e338099d",
   "metadata": {},
   "source": [
    "# Now that you have the dataset loaded you can use the commands below"
   ]
  },
  {
   "cell_type": "code",
   "execution_count": 24,
   "id": "ad503c99-e405-4b5c-af4e-52b131e2d4c2",
   "metadata": {},
   "outputs": [
    {
     "name": "stdout",
     "output_type": "stream",
     "text": [
      "Image Data Shape (1797, 64)\n",
      "Label Data Shape (1797,)\n"
     ]
    }
   ],
   "source": [
    "# Print to show there are 1797 images (8 by 8 images for a dimensionality of 64)\n",
    "print('Image Data Shape' , digits.data.shape)# Print to show there are 1797 labels (integers from 0–9)\n",
    "print(\"Label Data Shape\", digits.target.shape)"
   ]
  },
  {
   "cell_type": "markdown",
   "id": "f9952f69-0566-4f19-b3c6-792e6cbe50b3",
   "metadata": {},
   "source": [
    "to see that there are 1797 images and 1797 labels in the dataset"
   ]
  },
  {
   "cell_type": "markdown",
   "id": "b57a0d2d-53fd-47d6-8381-8107703e31b4",
   "metadata": {},
   "source": [
    "# Showing the Images and the Labels (Digits Dataset)\n",
    "\n",
    "This section is really just to show what the images and labels look like. It usually helps to visualize your data to see what you are working with."
   ]
  },
  {
   "cell_type": "code",
   "execution_count": 26,
   "id": "ef404d0b-b143-44b0-b014-2d31ebc566a8",
   "metadata": {},
   "outputs": [
    {
     "data": {
      "image/png": "[encoded data removed]",
      "text/plain": [
       "<Figure size 1440x288 with 5 Axes>"
      ]
     },
     "metadata": {
      "needs_background": "light"
     },
     "output_type": "display_data"
    }
   ],
   "source": [
    "import numpy as np \n",
    "import matplotlib.pyplot as plt\n",
    "plt.figure(figsize=(20,4))\n",
    "for index, (image, label) in enumerate(zip(digits.data[0:5], digits.target[0:5])):\n",
    "    plt.subplot(1, 5, index + 1)\n",
    "    plt.imshow(np.reshape(image, (8,8)), cmap=plt.cm.gray)\n",
    "    plt.title('Training: %i\\n' % label, fontsize = 20)"
   ]
  },
  {
   "cell_type": "code",
   "execution_count": null,
   "id": "c47db7dc-d5de-4b8a-bbbc-69b3252027dd",
   "metadata": {},
   "outputs": [],
   "source": []
  },
  {
   "cell_type": "markdown",
   "id": "4c35a00d-6edc-4ccd-8e16-04a1b6682334",
   "metadata": {},
   "source": [
    "# Splitting Data into Training and Test Sets (Digits Dataset)\n",
    "\n",
    "We make training and test sets to make sure that after we train our classification algorithm, it is able to generalize well to new data."
   ]
  },
  {
   "cell_type": "code",
   "execution_count": 27,
   "id": "fd5a6d74-0f86-43b4-84a4-fc1d89a3d2c5",
   "metadata": {},
   "outputs": [],
   "source": [
    "from sklearn.model_selection import train_test_split\n",
    "x_train, x_test, y_train, y_test = train_test_split(digits.data, digits.target, test_size=0.25, random_state=0)"
   ]
  },
  {
   "cell_type": "markdown",
   "id": "d8b2a183-5c74-4f01-ba9c-716ca53aa3fa",
   "metadata": {},
   "source": [
    "# Scikit-learn 4-Step Modeling Pattern (Digits Dataset)"
   ]
  },
  {
   "cell_type": "markdown",
   "id": "1e7d5031-bc20-498c-a0c8-c164862e23bb",
   "metadata": {},
   "source": [
    "## Step 1. Import the model you want to use\n",
    "\n",
    "### In sklearn, all machine learning models are implemented as Python classes"
   ]
  },
  {
   "cell_type": "code",
   "execution_count": 28,
   "id": "00471854-adbd-455c-b7d3-a5554bea8eec",
   "metadata": {},
   "outputs": [],
   "source": [
    "from sklearn.linear_model import LogisticRegression"
   ]
  },
  {
   "cell_type": "markdown",
   "id": "669ab7aa-5a3a-4411-94c5-42f2774d610b",
   "metadata": {},
   "source": [
    "## Step 2. Make an instance of the Model"
   ]
  },
  {
   "cell_type": "code",
   "execution_count": 29,
   "id": "7648b2d9-b25f-4eb2-a59c-bb2b79670b3e",
   "metadata": {},
   "outputs": [],
   "source": [
    "# all parameters not specified are set to their defaults\n",
    "logisticRegr = LogisticRegression()"
   ]
  },
  {
   "cell_type": "markdown",
   "id": "bda42d85-c922-4695-ade1-e455606c1899",
   "metadata": {},
   "source": [
    "## Step 3. Training the model on the data, storing the information learned from the data\n",
    "### Model is learning the relationship between digits (x_train) and labels (y_train)"
   ]
  },
  {
   "cell_type": "code",
   "execution_count": 30,
   "id": "63a74577-b825-4004-90f2-a3a4f287fd74",
   "metadata": {},
   "outputs": [
    {
     "name": "stderr",
     "output_type": "stream",
     "text": [
      "C:\\Users\\soura\\AppData\\Roaming\\Python\\Python38\\site-packages\\sklearn\\linear_model\\_logistic.py:763: ConvergenceWarning: lbfgs failed to converge (status=1):\n",
      "STOP: TOTAL NO. of ITERATIONS REACHED LIMIT.\n",
      "\n",
      "Increase the number of iterations (max_iter) or scale the data as shown in:\n",
      "    https://scikit-learn.org/stable/modules/preprocessing.html\n",
      "Please also refer to the documentation for alternative solver options:\n",
      "    https://scikit-learn.org/stable/modules/linear_model.html#logistic-regression\n",
      "  n_iter_i = _check_optimize_result(\n"
     ]
    },
    {
     "data": {
      "text/plain": [
       "LogisticRegression()"
      ]
     },
     "execution_count": 30,
     "metadata": {},
     "output_type": "execute_result"
    }
   ],
   "source": [
    "logisticRegr.fit(x_train, y_train)"
   ]
  },
  {
   "cell_type": "markdown",
   "id": "2d2a5837-298e-4ae4-a631-d9cb45e10eda",
   "metadata": {},
   "source": [
    "## Step 4. Predict labels for new data (new images)\n",
    "\n",
    "### Uses the information the model learned during the model training process"
   ]
  },
  {
   "cell_type": "code",
   "execution_count": 31,
   "id": "419fa6f4-3855-4348-8db8-62869eeba295",
   "metadata": {},
   "outputs": [
    {
     "data": {
      "text/plain": [
       "array([2])"
      ]
     },
     "execution_count": 31,
     "metadata": {},
     "output_type": "execute_result"
    }
   ],
   "source": [
    "# Returns a NumPy Array\n",
    "# Predict for One Observation (image)\n",
    "logisticRegr.predict(x_test[0].reshape(1,-1))"
   ]
  },
  {
   "cell_type": "markdown",
   "id": "d107362c-2b23-4bc0-9877-fe568c3625c3",
   "metadata": {},
   "source": [
    "Predict for Multiple Observations (images) at Once"
   ]
  },
  {
   "cell_type": "code",
   "execution_count": 37,
   "id": "38dfc97b-990b-4af8-ad5c-6a90755ba3a2",
   "metadata": {},
   "outputs": [],
   "source": [
    "predictions = logisticRegr.predict(x_test)"
   ]
  },
  {
   "cell_type": "markdown",
   "id": "c8e4888a-58b0-4175-a510-430b0105af3d",
   "metadata": {},
   "source": [
    "# Measuring Model Performance (Digits Dataset)\n",
    "\n",
    "While there are other ways of measuring model performance (precision, recall, F1 Score, ROC Curve, etc), we are going to keep this simple and use accuracy as our metric.\n",
    "To do this are going to see how the model performs on the new data (test set)\n",
    "\n",
    "accuracy is defined as:\n",
    "\n",
    "(fraction of correct predictions): correct predictions / total number of data points"
   ]
  },
  {
   "cell_type": "code",
   "execution_count": 38,
   "id": "a449db58-e1b0-458b-9648-fc2f4772ec54",
   "metadata": {},
   "outputs": [
    {
     "name": "stdout",
     "output_type": "stream",
     "text": [
      "0.9511111111111111\n"
     ]
    }
   ],
   "source": [
    "# Use score method to get accuracy of model\n",
    "score = logisticRegr.score(x_test, y_test)\n",
    "print(score)p"
   ]
  },
  {
   "cell_type": "markdown",
   "id": "94fefc13-1fcd-45e8-9cef-0dc4b84be1ef",
   "metadata": {},
   "source": [
    "Our accuracy was 95.3%.\n",
    "# Confusion Matrix (Digits Dataset)\n",
    "\n",
    "A confusion matrix is a table that is often used to describe the performance of a classification model (or “classifier”) on a set of test data for which the true values are known. In this section, I am just showing two python packages (Seaborn) for making confusion matrices more understandable and visually appealing."
   ]
  },
  {
   "cell_type": "code",
   "execution_count": 39,
   "id": "8153c1c2-14e5-48d0-bd94-7f9e9b440924",
   "metadata": {},
   "outputs": [],
   "source": [
    "import matplotlib.pyplot as plt\n",
    "import seaborn as sns\n",
    "from sklearn import metrics"
   ]
  },
  {
   "cell_type": "code",
   "execution_count": 40,
   "id": "a50d2db7-8371-4ea6-8ad8-c1ce3346a9b4",
   "metadata": {},
   "outputs": [
    {
     "name": "stdout",
     "output_type": "stream",
     "text": [
      "[[37  0  0  0  0  0  0  0  0  0]\n",
      " [ 0 40  0  0  0  0  0  0  2  1]\n",
      " [ 0  1 40  3  0  0  0  0  0  0]\n",
      " [ 0  0  0 43  0  0  0  0  1  1]\n",
      " [ 0  0  0  0 37  0  0  1  0  0]\n",
      " [ 0  0  0  0  0 46  0  0  0  2]\n",
      " [ 0  1  0  0  0  0 51  0  0  0]\n",
      " [ 0  0  0  1  1  0  0 46  0  0]\n",
      " [ 0  3  1  0  0  0  0  0 43  1]\n",
      " [ 0  0  0  0  0  1  0  0  1 45]]\n"
     ]
    }
   ],
   "source": [
    "cm = metrics.confusion_matrix(y_test, predictions)\n",
    "print(cm)"
   ]
  },
  {
   "cell_type": "markdown",
   "id": "ff3350e8-5599-4394-990e-f1bb4a86e85f",
   "metadata": {},
   "source": [
    "## As you can see below, this method produces a more understandable and visually readable confusion matrix using seaborn."
   ]
  },
  {
   "cell_type": "code",
   "execution_count": 41,
   "id": "7f87b838-cf4d-4b7c-87f4-8f15addde7fd",
   "metadata": {},
   "outputs": [
    {
     "data": {
      "image/png": "[encoded data removed]",
      "text/plain": [
       "<Figure size 648x648 with 2 Axes>"
      ]
     },
     "metadata": {
      "needs_background": "light"
     },
     "output_type": "display_data"
    }
   ],
   "source": [
    "plt.figure(figsize=(9,9))\n",
    "sns.heatmap(cm, annot=True, fmt=\".3f\", linewidths=.5, square = True, cmap = 'Blues_r');\n",
    "plt.ylabel('Actual label');\n",
    "plt.xlabel('Predicted label');\n",
    "all_sample_title = 'Accuracy Score: {0}'.format(score)\n",
    "plt.title(all_sample_title, size = 15);"
   ]
  },
  {
   "cell_type": "code",
   "execution_count": null,
   "id": "d5eb6778-ab63-40ae-ba6b-193ba25676a4",
   "metadata": {},
   "outputs": [],
   "source": []
  }
 ],
 "metadata": {
  "kernelspec": {
   "display_name": "Python 3",
   "language": "python",
   "name": "python3"
  },
  "language_info": {
   "codemirror_mode": {
    "name": "ipython",
    "version": 3
   },
   "file_extension": ".py",
   "mimetype": "text/x-python",
   "name": "python",
   "nbconvert_exporter": "python",
   "pygments_lexer": "ipython3",
   "version": "3.8.8"
  }
 },
 "nbformat": 4,
 "nbformat_minor": 5
}
