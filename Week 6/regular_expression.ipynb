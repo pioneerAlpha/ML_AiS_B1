{
  "nbformat": 4,
  "nbformat_minor": 0,
  "metadata": {
    "colab": {
      "name": "regular_expression.ipynb",
      "provenance": [],
      "collapsed_sections": []
    },
    "kernelspec": {
      "name": "python3",
      "display_name": "Python 3"
    },
    "language_info": {
      "name": "python"
    }
  },
  "cells": [
    {
      "cell_type": "code",
      "metadata": {
        "id": "TdOSCtM9rb5d"
      },
      "source": [
        "import re"
      ],
      "execution_count": 1,
      "outputs": []
    },
    {
      "cell_type": "markdown",
      "metadata": {
        "id": "7t8pKEjv4M7Q"
      },
      "source": [
        "Match a string with a pattern <br/>\n",
        "- re.match(pattern, string)"
      ]
    },
    {
      "cell_type": "code",
      "metadata": {
        "colab": {
          "base_uri": "https://localhost:8080/",
          "height": 35
        },
        "id": "50s0v6Et4Kbj",
        "outputId": "c857b8fc-0ac0-4f1c-fb03-4f731b85f472"
      },
      "source": [
        "results = re.match('Pioneer', 'Pioneer Alpha is an emerging AI startup.')\n",
        "results.group(0)"
      ],
      "execution_count": 2,
      "outputs": [
        {
          "output_type": "execute_result",
          "data": {
            "application/vnd.google.colaboratory.intrinsic+json": {
              "type": "string"
            },
            "text/plain": [
              "'Pioneer'"
            ]
          },
          "metadata": {},
          "execution_count": 2
        }
      ]
    },
    {
      "cell_type": "code",
      "metadata": {
        "colab": {
          "base_uri": "https://localhost:8080/",
          "height": 35
        },
        "id": "5UBOYGGh5gcZ",
        "outputId": "2f93d23e-0ac2-4954-bdb9-0e9023215a7e"
      },
      "source": [
        "results = re.match('Pioneer Alpha', 'Pioneer Alpha is an emerging AI startup.')\n",
        "results.group(0)"
      ],
      "execution_count": 3,
      "outputs": [
        {
          "output_type": "execute_result",
          "data": {
            "application/vnd.google.colaboratory.intrinsic+json": {
              "type": "string"
            },
            "text/plain": [
              "'Pioneer Alpha'"
            ]
          },
          "metadata": {},
          "execution_count": 3
        }
      ]
    },
    {
      "cell_type": "markdown",
      "metadata": {
        "id": "2WW7FGL05oGZ"
      },
      "source": [
        "Search a string\n",
        " - re.search(pattern, string)"
      ]
    },
    {
      "cell_type": "code",
      "metadata": {
        "colab": {
          "base_uri": "https://localhost:8080/",
          "height": 35
        },
        "id": "HRexXWiy5Urc",
        "outputId": "18363df6-e115-4cc2-e86f-9b8fcd8e3004"
      },
      "source": [
        "results = re.search('Alpha', 'Pioneer Alpha is an emerging AI startup.')\n",
        "results.group(0)"
      ],
      "execution_count": 4,
      "outputs": [
        {
          "output_type": "execute_result",
          "data": {
            "application/vnd.google.colaboratory.intrinsic+json": {
              "type": "string"
            },
            "text/plain": [
              "'Alpha'"
            ]
          },
          "metadata": {},
          "execution_count": 4
        }
      ]
    },
    {
      "cell_type": "markdown",
      "metadata": {
        "id": "jUKHQGha596Z"
      },
      "source": [
        "Find all string\n",
        "- re.findall(pattern,string)"
      ]
    },
    {
      "cell_type": "code",
      "metadata": {
        "colab": {
          "base_uri": "https://localhost:8080/"
        },
        "id": "VlBZF3zR59Mh",
        "outputId": "07e4c454-c142-423e-839a-e4d0e96aaebc"
      },
      "source": [
        "pattern = \"Pioneer\"\n",
        "\n",
        "target = 'Pioneer Alpha is a pioneer AI startup.'\n",
        "\n",
        "results = re.findall(pattern.lower(), target.lower())\n",
        "results"
      ],
      "execution_count": 5,
      "outputs": [
        {
          "output_type": "execute_result",
          "data": {
            "text/plain": [
              "['pioneer', 'pioneer']"
            ]
          },
          "metadata": {},
          "execution_count": 5
        }
      ]
    },
    {
      "cell_type": "markdown",
      "metadata": {
        "id": "aKcwimM56TlB"
      },
      "source": [
        "Split string by occurances of given pattern"
      ]
    },
    {
      "cell_type": "code",
      "metadata": {
        "colab": {
          "base_uri": "https://localhost:8080/"
        },
        "id": "ASfp9iXw6Ohb",
        "outputId": "d0152f98-7981-42be-db13-aeb595f4a00a"
      },
      "source": [
        "results = re.split(r\"\\\\\", \"AI\\ML\")\n",
        "results"
      ],
      "execution_count": 6,
      "outputs": [
        {
          "output_type": "execute_result",
          "data": {
            "text/plain": [
              "['AI', 'ML']"
            ]
          },
          "metadata": {},
          "execution_count": 6
        }
      ]
    },
    {
      "cell_type": "markdown",
      "metadata": {
        "id": "62kDREsL6pNp"
      },
      "source": [
        "Find a pattern and replace with a new substring\n",
        "- re.sub(pattern,replace_with,string)"
      ]
    },
    {
      "cell_type": "code",
      "metadata": {
        "colab": {
          "base_uri": "https://localhost:8080/",
          "height": 35
        },
        "id": "Pbt6eaS_6iZK",
        "outputId": "39d90202-5c08-49ec-a8f0-1b9c03457b2d"
      },
      "source": [
        "results = re.sub('an', 'an emering' , 'Pioneer Alpha is an AI startup. Pioneer Alpha is an AI startup.')\n",
        "results"
      ],
      "execution_count": 7,
      "outputs": [
        {
          "output_type": "execute_result",
          "data": {
            "application/vnd.google.colaboratory.intrinsic+json": {
              "type": "string"
            },
            "text/plain": [
              "'Pioneer Alpha is an emering AI startup. Pioneer Alpha is an emering AI startup.'"
            ]
          },
          "metadata": {},
          "execution_count": 7
        }
      ]
    },
    {
      "cell_type": "markdown",
      "metadata": {
        "id": "fuzTKHmPuB_i"
      },
      "source": [
        "# Understanding Special Symbols"
      ]
    },
    {
      "cell_type": "code",
      "metadata": {
        "id": "jGAsPMpAnXXa"
      },
      "source": [
        "# Find all characters\n",
        "result = re.findall(r'.','Pioneer Alpha is an AI startup. Pioneer Alpha is an AI startup.')\n",
        "result"
      ],
      "execution_count": null,
      "outputs": []
    },
    {
      "cell_type": "code",
      "metadata": {
        "id": "1R8Xv12Mnpxy"
      },
      "source": [
        "# Find all alphanumeric charater\n",
        "result = re.findall(r'\\w','Pioneer Alpha is an AI startup. Pioneer Alpha is an AI startup.')\n",
        "result"
      ],
      "execution_count": null,
      "outputs": []
    },
    {
      "cell_type": "markdown",
      "metadata": {
        "id": "o3wZmNmbnSbt"
      },
      "source": [
        "# Some Real-life Examples"
      ]
    },
    {
      "cell_type": "code",
      "metadata": {
        "id": "QVLMvDp1n6ix"
      },
      "source": [
        "# Find all words\n",
        "result = re.findall(r'\\w*','Pioneer Alpha is an AI startup. Pioneer Alpha is an AI startup.')\n",
        "result"
      ],
      "execution_count": null,
      "outputs": []
    },
    {
      "cell_type": "code",
      "metadata": {
        "id": "SSGTWmOtoKzK"
      },
      "source": [
        "result = re.findall(r'\\w+','Pioneer Alpha is an AI startup. Pioneer Alpha is an AI startup.')\n",
        "result"
      ],
      "execution_count": null,
      "outputs": []
    },
    {
      "cell_type": "code",
      "metadata": {
        "id": "bAWLWmB0oOdK"
      },
      "source": [
        "# 3 consecutive seperate characters of all words\n",
        "result = re.findall(r'\\w\\w\\w','Pioneer Alpha is an AI startup. Pioneer Alpha is an AI startup.')\n",
        "result"
      ],
      "execution_count": null,
      "outputs": []
    },
    {
      "cell_type": "code",
      "metadata": {
        "id": "OVgzHqglonwz"
      },
      "source": [
        "# First 3 first characters of each word\n",
        "result = re.findall(r'\\b\\w\\w.','Pioneer Alpha is an AI startup. Pioneer Alpha is an AI startup.')\n",
        "result"
      ],
      "execution_count": null,
      "outputs": []
    },
    {
      "cell_type": "code",
      "metadata": {
        "id": "iELiVuOjyYJR"
      },
      "source": [
        "# First 2 last characters of each word\n",
        "result = re.findall(r'\\w\\w\\b','Pioneer Alpha is an AI startup. Pioneer Alpha is an AI startup.')\n",
        "result"
      ],
      "execution_count": null,
      "outputs": []
    },
    {
      "cell_type": "code",
      "metadata": {
        "id": "UYvjPrZIpYHr"
      },
      "source": [
        "# Extract Emails from a text\n",
        "result = re.findall(r'\\w+@\\S+','Email us at: ml.pioneeralpha@outlook.com For more details: help@outlook.com')\n",
        "result"
      ],
      "execution_count": null,
      "outputs": []
    },
    {
      "cell_type": "code",
      "metadata": {
        "id": "dEhdFEA7rp5y"
      },
      "source": [
        "# Extract urls from a text\n",
        "result = re.findall(r'http\\S+','Email us at: ml.pioneeralpha@outlook.com For more details: https://pioneeralpha.com/')\n",
        "result"
      ],
      "execution_count": null,
      "outputs": []
    },
    {
      "cell_type": "code",
      "metadata": {
        "id": "wvcCRwOFz09R"
      },
      "source": [
        "# (?), (*), (+)\n",
        "sent = \"cl cls class classy classsy\"\n",
        "pattern1 = r\"cla?s\"\n",
        "pattern2 = r\"cla?s*\"\n",
        "pattern3 = r\"cla?s+\"\n",
        "\n",
        "result1 = re.findall(pattern1,sent)\n",
        "result2 = re.findall(pattern2,sent)\n",
        "result3 = re.findall(pattern3,sent)\n",
        "\n",
        "print(result1)\n",
        "print(result2)\n",
        "print(result3)"
      ],
      "execution_count": null,
      "outputs": []
    },
    {
      "cell_type": "code",
      "metadata": {
        "id": "XVE-EX4gsKyr"
      },
      "source": [
        "# Extract only words with alphabets\n",
        "# Use of Sets\n",
        "result = re.findall(r'[a-zA-Z]+','Email us at: ml.pioneeralpha@outlook.com For more details: https://pioneeralpha.com/')\n",
        "result"
      ],
      "execution_count": null,
      "outputs": []
    },
    {
      "cell_type": "code",
      "metadata": {
        "id": "lLoBbiDoyBpa"
      },
      "source": [
        "# Extract only amounts\n",
        "result = re.findall(r'[\\d,]+','COVID-19 put a massive blow to the human kind. The death toll is over 4,500,000.')\n",
        "result"
      ],
      "execution_count": null,
      "outputs": []
    },
    {
      "cell_type": "markdown",
      "metadata": {
        "id": "ez_VojAV7hMU"
      },
      "source": [
        "For more : https://docs.python.org/3/library/re.html"
      ]
    }
  ]
}