{
  "nbformat": 4,
  "nbformat_minor": 0,
  "metadata": {
    "colab": {
      "name": "regular_expression.ipynb",
      "provenance": []
    },
    "kernelspec": {
      "name": "python3",
      "display_name": "Python 3"
    },
    "language_info": {
      "name": "python"
    }
  },
  "cells": [
    {
      "cell_type": "code",
      "metadata": {
        "id": "TdOSCtM9rb5d"
      },
      "source": [
        "import re"
      ],
      "execution_count": 22,
      "outputs": []
    },
    {
      "cell_type": "markdown",
      "metadata": {
        "id": "7t8pKEjv4M7Q"
      },
      "source": [
        "Match a string with a pattern <br/>\n",
        "- re.match(pattern, string)"
      ]
    },
    {
      "cell_type": "code",
      "metadata": {
        "colab": {
          "base_uri": "https://localhost:8080/",
          "height": 35
        },
        "id": "50s0v6Et4Kbj",
        "outputId": "737f351f-672e-4ee3-bfaa-8ad425e46e6e"
      },
      "source": [
        "results = re.match('Pioneer', 'Pioneer Alpha is an emerging AI startup.')\n",
        "results.group(0)"
      ],
      "execution_count": 23,
      "outputs": [
        {
          "output_type": "execute_result",
          "data": {
            "application/vnd.google.colaboratory.intrinsic+json": {
              "type": "string"
            },
            "text/plain": [
              "'Pioneer'"
            ]
          },
          "metadata": {
            "tags": []
          },
          "execution_count": 23
        }
      ]
    },
    {
      "cell_type": "code",
      "metadata": {
        "id": "5UBOYGGh5gcZ"
      },
      "source": [
        "results = re.match('Alpha', 'Pioneer Alpha is an emerging AI startup.')\n",
        "results"
      ],
      "execution_count": 24,
      "outputs": []
    },
    {
      "cell_type": "markdown",
      "metadata": {
        "id": "2WW7FGL05oGZ"
      },
      "source": [
        "Search a string\n",
        " - re.search(pattern, string)"
      ]
    },
    {
      "cell_type": "code",
      "metadata": {
        "colab": {
          "base_uri": "https://localhost:8080/",
          "height": 35
        },
        "id": "HRexXWiy5Urc",
        "outputId": "3797fc08-0f17-42cb-9847-a109e84aa873"
      },
      "source": [
        "results = re.search('Alpha', 'Pioneer Alpha is an emerging AI startup.')\n",
        "results.group(0)"
      ],
      "execution_count": 25,
      "outputs": [
        {
          "output_type": "execute_result",
          "data": {
            "application/vnd.google.colaboratory.intrinsic+json": {
              "type": "string"
            },
            "text/plain": [
              "'Alpha'"
            ]
          },
          "metadata": {
            "tags": []
          },
          "execution_count": 25
        }
      ]
    },
    {
      "cell_type": "markdown",
      "metadata": {
        "id": "jUKHQGha596Z"
      },
      "source": [
        "Find all string\n",
        "- re.findall(pattern,string)"
      ]
    },
    {
      "cell_type": "code",
      "metadata": {
        "colab": {
          "base_uri": "https://localhost:8080/"
        },
        "id": "VlBZF3zR59Mh",
        "outputId": "50ae7369-5054-44e8-a891-433cce0b2c24"
      },
      "source": [
        "results = re.findall('Pioneer', 'Pioneer Alpha is a Pioneer AI startup.')\n",
        "results"
      ],
      "execution_count": 26,
      "outputs": [
        {
          "output_type": "execute_result",
          "data": {
            "text/plain": [
              "['Pioneer', 'Pioneer']"
            ]
          },
          "metadata": {
            "tags": []
          },
          "execution_count": 26
        }
      ]
    },
    {
      "cell_type": "markdown",
      "metadata": {
        "id": "aKcwimM56TlB"
      },
      "source": [
        "Split string by occurances of given pattern"
      ]
    },
    {
      "cell_type": "code",
      "metadata": {
        "colab": {
          "base_uri": "https://localhost:8080/"
        },
        "id": "ASfp9iXw6Ohb",
        "outputId": "23ef0694-76a9-4303-e4fc-af923895fc56"
      },
      "source": [
        "results = re.split('is', 'Pioneer Alpha is an AI startup.')\n",
        "results"
      ],
      "execution_count": 27,
      "outputs": [
        {
          "output_type": "execute_result",
          "data": {
            "text/plain": [
              "['Pioneer Alpha ', ' an AI startup.']"
            ]
          },
          "metadata": {
            "tags": []
          },
          "execution_count": 27
        }
      ]
    },
    {
      "cell_type": "markdown",
      "metadata": {
        "id": "62kDREsL6pNp"
      },
      "source": [
        "Find a pattern and resplace with a new substring\n",
        "- re.sub(pattern,replace_with,string)"
      ]
    },
    {
      "cell_type": "code",
      "metadata": {
        "colab": {
          "base_uri": "https://localhost:8080/",
          "height": 35
        },
        "id": "Pbt6eaS_6iZK",
        "outputId": "e0591470-f6e9-4d8e-c303-02aed8858b2b"
      },
      "source": [
        "results = re.sub('an', 'an emering' , 'Pioneer Alpha is an AI startup.')\n",
        "results"
      ],
      "execution_count": 28,
      "outputs": [
        {
          "output_type": "execute_result",
          "data": {
            "application/vnd.google.colaboratory.intrinsic+json": {
              "type": "string"
            },
            "text/plain": [
              "'Pioneer Alpha is an emering AI startup.'"
            ]
          },
          "metadata": {
            "tags": []
          },
          "execution_count": 28
        }
      ]
    },
    {
      "cell_type": "markdown",
      "metadata": {
        "id": "ez_VojAV7hMU"
      },
      "source": [
        "For more : https://docs.python.org/3/library/re.html"
      ]
    }
  ]
}